{
  "nbformat": 4,
  "nbformat_minor": 0,
  "metadata": {
    "colab": {
      "provenance": [],
      "authorship_tag": "ABX9TyPa12NfBWw1QoV1yXotusL6",
      "include_colab_link": true
    },
    "kernelspec": {
      "name": "python3",
      "display_name": "Python 3"
    },
    "language_info": {
      "name": "python"
    }
  },
  "cells": [
    {
      "cell_type": "markdown",
      "metadata": {
        "id": "view-in-github",
        "colab_type": "text"
      },
      "source": [
        "<a href=\"https://colab.research.google.com/github/WilliamDietz/hello-world/blob/master/HW1.ipynb\" target=\"_parent\"><img src=\"https://colab.research.google.com/assets/colab-badge.svg\" alt=\"Open In Colab\"/></a>"
      ]
    },
    {
      "cell_type": "code",
      "source": [
        "# import pandas library\n",
        "import pandas as pd\n",
        "\n",
        "# mount the drive to access the file\n",
        "from google.colab import drive\n",
        "drive.mount('/content/drive')\n",
        "\n",
        "# read the csv file into a pandas dataframe\n",
        "medals = pd.read_csv('/content/drive/MyDrive/olympic_medals.csv')\n",
        "\n",
        "# a) Find the size of the data frame. How many rows, how many columns?\n",
        "print('size of the data frame. How many rows, how many columns')\n",
        "print(\"The dataset has\", medals.shape[0], \"rows and\", medals.shape[1], \"columns.\")\n",
        "print()\n",
        "print('data types for all columns')\n",
        "# b) Use the appropriate function to report the data types for all columns.\n",
        "print(medals.dtypes)\n",
        "print()\n",
        "\n",
        "print('unique cities matches were held')\n",
        "# c) Find how many unique cities matches were held at.\n",
        "print(\"There were\", len(medals['Location'].unique()), \"unique cities matches were held at.\")\n",
        "print()\n",
        "\n",
        "print('medals the USA team won in total')\n",
        "# d) Find how many medals the USA team won in total.\n",
        "usa_medals = medals.loc[medals['Nationality'] == 'USA', 'Medal'].count()\n",
        "print(\"The USA team won\", usa_medals, \"medals in total.\")\n",
        "print()\n",
        "print('total number of medals for each Nationality')\n",
        "# e) Find the total number of medals for each Nationality.\n",
        "medals_by_nationality = medals.groupby(by='Nationality')['Medal'].count()\n",
        "print(medals_by_nationality)\n"
      ],
      "metadata": {
        "colab": {
          "base_uri": "https://localhost:8080/"
        },
        "id": "wkfbmCsZgndz",
        "outputId": "b178530b-3f0f-4b19-b65c-2c43dfde38b5"
      },
      "execution_count": 4,
      "outputs": [
        {
          "output_type": "stream",
          "name": "stdout",
          "text": [
            "Drive already mounted at /content/drive; to attempt to forcibly remount, call drive.mount(\"/content/drive\", force_remount=True).\n",
            "size of the data frame. How many rows, how many columns\n",
            "The dataset has 2394 rows and 8 columns.\n",
            "\n",
            "data types for all columns\n",
            "Gender         object\n",
            "Event          object\n",
            "Location       object\n",
            "Year            int64\n",
            "Medal          object\n",
            "Name           object\n",
            "Nationality    object\n",
            "Result         object\n",
            "dtype: object\n",
            "\n",
            "unique cities matches were held\n",
            "There were 23 unique cities matches were held at.\n",
            "\n",
            "medals the USA team won in total\n",
            "The USA team won 638 medals in total.\n",
            "\n",
            "total number of medals for each Nationality\n",
            "Nationality\n",
            "ALG      9\n",
            "ARG      4\n",
            "AUS     57\n",
            "AUT      4\n",
            "BAH     12\n",
            "      ... \n",
            "URS    131\n",
            "USA    638\n",
            "VEN      2\n",
            "YUG      1\n",
            "ZAM      1\n",
            "Name: Medal, Length: 97, dtype: int64\n"
          ]
        }
      ]
    }
  ]
}