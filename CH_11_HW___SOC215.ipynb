{
  "nbformat": 4,
  "nbformat_minor": 0,
  "metadata": {
    "colab": {
      "provenance": [],
      "authorship_tag": "ABX9TyOlvwq0IeN+nUoHwjqx867k",
      "include_colab_link": true
    },
    "kernelspec": {
      "name": "python3",
      "display_name": "Python 3"
    },
    "language_info": {
      "name": "python"
    }
  },
  "cells": [
    {
      "cell_type": "markdown",
      "metadata": {
        "id": "view-in-github",
        "colab_type": "text"
      },
      "source": [
        "<a href=\"https://colab.research.google.com/github/WilliamDietz/CSC-302-W1/blob/master/CH_11_HW___SOC215.ipynb\" target=\"_parent\"><img src=\"https://colab.research.google.com/assets/colab-badge.svg\" alt=\"Open In Colab\"/></a>"
      ]
    },
    {
      "cell_type": "code",
      "execution_count": 1,
      "metadata": {
        "colab": {
          "base_uri": "https://localhost:8080/"
        },
        "id": "GveuJHBXn6J3",
        "outputId": "3d0eb213-7732-4af8-ec8c-8c744ebb794f"
      },
      "outputs": [
        {
          "output_type": "stream",
          "name": "stdout",
          "text": [
            "F-value: 4.470737913486005\n",
            "p-value: 0.010967815340995063\n",
            "Reject the null hypothesis.\n",
            "Effect size (eta squared): 0.13768513439385627\n",
            "There is a statistically significant difference in health among the four social classes. The effect size is moderate.\n"
          ]
        }
      ],
      "source": [
        "import numpy as np\n",
        "import pandas as pd\n",
        "\n",
        "# C1 Table given\n",
        "data = {\n",
        "    'Lower Class': [3, 2, 2, 2, 3, 3, 4, 4],\n",
        "    'Working Class': [2, 1, 3, 2, 2, 2, 3, 3],\n",
        "    'Middle Class': [2, 3, 1, 1, 2, 3, 3, 1],\n",
        "    'Upper Class': [2, 1, 1, 2, 1, 1, 2, 2]\n",
        "}\n",
        "\n",
        "df = pd.DataFrame(data)\n",
        "\n",
        "#  ANOVA Test\n",
        "from scipy import stats\n",
        "f_value, p_value = stats.f_oneway(df['Lower Class'], df['Working Class'], df['Middle Class'], df['Upper Class'])\n",
        "\n",
        "print('F-value:', f_value)\n",
        "print('p-value:', p_value)\n",
        "\n",
        "# hypotheses\n",
        "H0 = 'There is no significant difference in health among the four social classes.'\n",
        "HA = 'There is a significant difference in health among the four social classes.'\n",
        "\n",
        "# significance level\n",
        "alpha = 0.05\n",
        "\n",
        "# Step 3: Make a decision about the null hypothesis\n",
        "if p_value <= alpha:\n",
        "    print('Reject the null hypothesis.')\n",
        "else:\n",
        "    print('Fail to reject the null hypothesis.')\n",
        "\n",
        "#  effect size\n",
        "eta_squared = stats.f_oneway(df['Lower Class'], df['Working Class'], df['Middle Class'], df['Upper Class'])[0] / (stats.f_oneway(df['Lower Class'], df['Working Class'], df['Middle Class'], df['Upper Class'])[0] + df['Lower Class'].size + df['Working Class'].size + df['Middle Class'].size + df['Upper Class'].size - 4)\n",
        "print('Effect size (eta squared):', eta_squared)\n",
        "\n",
        "# Interpret the results\n",
        "if p_value <= alpha:\n",
        "    print('There is a statistically significant difference in health among the four social classes. The effect size is moderate.')\n",
        "else:\n",
        "    print('There is no statistically significant difference in health among the four social classes.')"
      ]
    },
    {
      "cell_type": "code",
      "source": [
        "import numpy as np\n",
        "import pandas as pd\n",
        "from scipy import stats\n",
        "\n",
        "# Data\n",
        "data = {\n",
        "  'Small Town': [0, 0, 1, 2, 1],\n",
        "  'Medium-Sized City': [2, 3, 1, 1],\n",
        "  'Large City': [3, 4, 4, 3, 2]\n",
        "}\n",
        "\n",
        "# Pad lists with missing values\n",
        "max_length = max(len(values) for values in data.values())\n",
        "for area, values in data.items():\n",
        "  data[area] = values + [np.nan] * (max_length - len(values))\n",
        "\n",
        "# Convert data to a DataFrame\n",
        "df = pd.DataFrame(data)\n",
        "\n",
        "# ANOVA Test\n",
        "f_value, p_value = stats.f_oneway(df['Small Town'], df['Medium-Sized City'], df['Large City'])\n",
        "\n",
        "print('F-value:', f_value)\n",
        "print('p-value:', p_value)\n",
        "\n",
        "# Hypotheses\n",
        "H0 = 'There is no difference in the means of moving violations among the 3 areas.'\n",
        "HA = 'There is a significant difference in the means of moving violations among the 3 areas.'\n",
        "\n",
        "# Significance level\n",
        "alpha = 0.05\n",
        "\n",
        "# Decision about the null hypothesis\n",
        "if p_value <= alpha:\n",
        "  print('Reject the null hypothesis.')\n",
        "else:\n",
        "  print('Fail to reject the null hypothesis.')\n",
        "\n",
        "# Effect size\n",
        "eta_squared = stats.f_oneway(df['Small Town'], df['Medium-Sized City'], df['Large City'])[0] / (stats.f_oneway(df['Small Town'], df['Medium-Sized City'], df['Large City'])[0] + df['Small Town'].size + df['Medium-Sized City'].size + df['Large City'].size - 3)\n",
        "print('Effect size (eta squared):', eta_squared)\n",
        "\n",
        "# Interpret the results\n",
        "if p_value <= alpha:\n",
        "    print('There is a statistically significant difference in health among the four social classes. The effect size is moderate.')\n",
        "else:\n",
        "    print('There is no statistically significant difference in health among the four social classes.')"
      ],
      "metadata": {
        "colab": {
          "base_uri": "https://localhost:8080/"
        },
        "id": "RSxwHc2GzjJR",
        "outputId": "a4e442fa-d068-43bf-c963-97816bdf0666"
      },
      "execution_count": 9,
      "outputs": [
        {
          "output_type": "stream",
          "name": "stdout",
          "text": [
            "F-value: nan\n",
            "p-value: nan\n",
            "Fail to reject the null hypothesis.\n",
            "Effect size (eta squared): nan\n",
            "There is no statistically significant difference in health among the four social classes.\n"
          ]
        }
      ]
    },
    {
      "cell_type": "code",
      "source": [
        "import numpy as np\n",
        "import pandas as pd\n",
        "from scipy import stats\n",
        "\n",
        "# Data\n",
        "data = {\n",
        "  'Small Town': [0, 0, 1, 2, 1],\n",
        "  'Medium-Sized City': [2, 3, 1,1],\n",
        "  'Large City': [3, 4, 4, 3, 2]\n",
        "}\n",
        "\n",
        "# Calculate the overall mean\n",
        "overall_mean = np.mean([np.mean(values) for values in data.values()])\n",
        "\n",
        "# Impute the missing value with the overall mean\n",
        "data['Medium-Sized City'].append(overall_mean)\n",
        "\n",
        "# Convert data to a DataFrame\n",
        "df = pd.DataFrame(data)\n",
        "\n",
        "# ANOVA Test\n",
        "f_value, p_value = stats.f_oneway(df['Small Town'], df['Medium-Sized City'], df['Large City'])\n",
        "\n",
        "# Print the imputed value\n",
        "print(\"Imputed missing value:\", data['Medium-Sized City'][-1])\n"
      ],
      "metadata": {
        "colab": {
          "base_uri": "https://localhost:8080/"
        },
        "id": "wgXRHZ4g3zME",
        "outputId": "09f73b8b-5e94-4fc8-9638-bcc7fdbb41bc"
      },
      "execution_count": 12,
      "outputs": [
        {
          "output_type": "stream",
          "name": "stdout",
          "text": [
            "Imputed missing value: 1.9166666666666667\n"
          ]
        }
      ]
    }
  ]
}